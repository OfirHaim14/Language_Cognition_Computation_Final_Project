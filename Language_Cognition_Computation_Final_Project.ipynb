{
  "cells": [
    {
      "cell_type": "markdown",
      "metadata": {
        "id": "4lOpqEUTA7zb"
      },
      "source": [
        "#Structured Task"
      ]
    },
    {
      "cell_type": "markdown",
      "metadata": {
        "id": "mqPTKAJjBzNb"
      },
      "source": [
        "## The decoder in HW3Q3"
      ]
    },
    {
      "cell_type": "code",
      "execution_count": null,
      "metadata": {
        "id": "6MmgSOTcB7LD"
      },
      "outputs": [],
      "source": [
        "# Download and extract the data and learn_decoder.py\n",
        "!wget --load-cookies /tmp/cookies.txt \"https://docs.google.com/uc?export=download&confirm=$(wget --quiet --save-cookies /tmp/cookies.txt --keep-session-cookies --no-check-certificate 'https://docs.google.com/uc?export=download&id=1xZaorRH-xxjfochvSesAhOTUg82_Xq56' -O- | sed -rn 's/.*confirm=([0-9A-Za-z_]+).*/\\1\\n/p')&id=1xZaorRH-xxjfochvSesAhOTUg82_Xq56\" -O files.zip && rm -rf /tmp/cookies.txt\n",
        "!unzip files.zip\n",
        "!rm files.zip"
      ]
    },
    {
      "cell_type": "code",
      "execution_count": null,
      "metadata": {
        "id": "M3mZYvIgB_8k"
      },
      "outputs": [],
      "source": [
        "#Let's load the functions from learn_decoder.py\n",
        "from learn_decoder import *\n",
        "from google.colab import drive\n",
        "drive.mount('/content/drive')"
      ]
    },
    {
      "cell_type": "code",
      "execution_count": null,
      "metadata": {
        "id": "2nbQFhlC5kjK"
      },
      "outputs": [],
      "source": [
        "#and the data\n",
        "data_hw1 = read_matrix(\"imaging_data.csv\", sep=\",\")\n",
        "vectors_hw1 = read_matrix(\"vectors_180concepts.GV42B300.txt\", sep=\" \")\n",
        "concepts_hw1 = np.genfromtxt('stimuli_180concepts.txt', dtype=np.dtype('U')) #The names of the 180 concepts"
      ]
    },
    {
      "cell_type": "code",
      "execution_count": null,
      "metadata": {
        "id": "k4ZRyrX45wGm"
      },
      "outputs": [],
      "source": [
        "from copy import deepcopy\n",
        "def process_model(filename):\n",
        "    concepts, vectors = [], []\n",
        "    with open(filename, encoding=\"utf8\") as f:\n",
        "        for i, line in list(enumerate(f))[1:]:\n",
        "            s = line.split(\" \")\n",
        "            concepts.append(s[0].split(\"_\")[0])\n",
        "            vectors.append(list(map(float, s[1:])))\n",
        "    return concepts, vectors\n",
        "\n",
        "\n",
        "cons, vecs = process_model(\"model.txt\")"
      ]
    },
    {
      "cell_type": "code",
      "execution_count": null,
      "metadata": {
        "colab": {
          "base_uri": "https://localhost:8080/"
        },
        "id": "WeDa2IvO6CAq",
        "outputId": "45f39481-bc63-4b78-82ea-568682bdedb6"
      },
      "outputs": [
        {
          "name": "stdout",
          "output_type": "stream",
          "text": [
            "177\n"
          ]
        }
      ],
      "source": [
        "w2v_vectors = []\n",
        "w2v_data = []\n",
        "w2v_concepts = []\n",
        "for i, c in enumerate(concepts_hw1):\n",
        "    # print(c in cons)\n",
        "    try:\n",
        "      idx = cons.index(c)\n",
        "    except:  # concept is not in new word embedding, skip it\n",
        "      continue\n",
        "    w2v_vectors.append(vecs[idx])\n",
        "    w2v_data.append(data_hw1[i])\n",
        "    w2v_concepts.append(c)\n",
        "\n",
        "w2v_vectors = np.array(w2v_vectors[:170])\n",
        "w2v_data = np.array(w2v_data[:170])\n",
        "w2v_concepts = np.array(w2v_concepts[:170])"
      ]
    },
    {
      "cell_type": "code",
      "execution_count": null,
      "metadata": {
        "id": "yMtlTgG5EdTb"
      },
      "outputs": [],
      "source": [
        "import numpy as np\n",
        "from sklearn.model_selection import KFold\n",
        "\n",
        "\n",
        "def cosine_similarity(vector_a, vector_b):\n",
        "    \"\"\"\n",
        "    Calculates the cosine similarity between the two vectors (the angle between them)\n",
        "    @vector a: The test concept vectors after the decoder activation.\n",
        "    @vector b: All the concept vectors\n",
        "    @return: The angle between the vectors.\n",
        "    \"\"\"\n",
        "    dot_product = np.dot(vector_a, vector_b)\n",
        "    norm_a = np.linalg.norm(vector_a)\n",
        "    norm_b = np.linalg.norm(vector_b)\n",
        "    similarity = dot_product / (norm_a * norm_b)\n",
        "    return similarity\n",
        "\n",
        "\n",
        "def average_rank_metric(v_tag_list, true_v_list, semantic_vectors):\n",
        "    \"\"\"\n",
        "    The function calculates the cosine similarity between the decoded vector to all the other vectors.\n",
        "    @param v_tag_list: The decoded vectors.\n",
        "    @param true_v: The true semantic vector.\n",
        "    @param semantic_vectors: All the semantic vectors\n",
        "    @return: How many vectors were closer to the decoded vector than the true semantic vector.\n",
        "    \"\"\"\n",
        "    ranks_list = []\n",
        "    for j in range(v_tag_list.shape[0]): # getting the rank for all the test decoded vectors.\n",
        "      place = 1\n",
        "      true_distance = cosine_similarity(v_tag_list[j], true_v_list[j])\n",
        "      for vec in semantic_vectors:\n",
        "          if cosine_similarity(v_tag_list[j], vec) > true_distance:\n",
        "              place += 1\n",
        "      ranks_list.append(place)\n",
        "    return ranks_list\n",
        "\n",
        "\n",
        "def k_fold_cross_validation(data, k):\n",
        "    kf = KFold(n_splits= k , shuffle=False)\n",
        "    folds = []\n",
        "    for train_index, test_index in kf.split(data):\n",
        "        train_fold = data[train_index]\n",
        "        test_fold = data[test_index]\n",
        "        folds.append((train_fold, test_fold))\n",
        "    return folds\n",
        "\n",
        "\n",
        "def get_smallest_and_largest_indexes(data):\n",
        "    \"\"\"\n",
        "    Gets the indexes of the 5 smallest and 5 largest elements from a list.\n",
        "    Returns two lists: the indexes of the 5 smallest elements and the indexes of the 5 largest elements.\n",
        "    \"\"\"\n",
        "    indexed_data = list(enumerate(data))\n",
        "    sorted_data = sorted(indexed_data, key=lambda x: x[1])\n",
        "    smallest_indexes = [index for index, _ in sorted_data[:5]]\n",
        "    largest_indexes = [index for index, _ in sorted_data[-5:]]\n",
        "    return smallest_indexes, largest_indexes"
      ]
    },
    {
      "cell_type": "code",
      "execution_count": null,
      "metadata": {
        "id": "5nEzja5ixYxu"
      },
      "outputs": [],
      "source": [
        "def train(data, vectors, num_folds):\n",
        "  datasets_list = k_fold_cross_validation(data, num_folds) # create the num_folds datasets\n",
        "  accuracy_for_all_concepts = [] # will have the rank for every datasets\n",
        "  accuracy_average = []\n",
        "  size = int(len(data)/num_folds)\n",
        "  #return 0,0\n",
        "\n",
        "  for i in range(num_folds):\n",
        "    current_preds = []\n",
        "    train_set = datasets_list[i][0]\n",
        "    test_set = datasets_list[i][1]\n",
        "    new_vectors = np.delete(vectors, np.s_[size*i:size*(i+1)], axis=0)\n",
        "    missig_vectors = vectors[size*i:size*(i+1)]\n",
        "    ith_decoder = learn_decoder(train_set, new_vectors) # gets the decoder matrix\n",
        "    semantic_vectors_pred = np.dot(test_set, ith_decoder) # gets the semantic vectors\n",
        "    ranks_list = average_rank_metric(semantic_vectors_pred, missig_vectors, vectors)\n",
        "    accuracy_for_all_concepts += ranks_list\n",
        "    accuracy_average.append(sum(ranks_list) / len(ranks_list))\n",
        "\n",
        "  return accuracy_average, accuracy_for_all_concepts"
      ]
    },
    {
      "cell_type": "code",
      "execution_count": null,
      "metadata": {
        "id": "YoXGU2che4cd"
      },
      "outputs": [],
      "source": [
        "datasets_list = k_fold_cross_validation(data_hw1, 18) # create the num_folds datasets\n",
        "accuracy_for_all_concepts = [] # will have the rank for every datasets\n",
        "accuracy_average = []\n",
        "size = int(len(data_hw1)/18)\n",
        "#return 0,0\n",
        "\n",
        "for i in range(18):\n",
        "  current_preds = []\n",
        "  train_set = datasets_list[i][0]\n",
        "  test_set = datasets_list[i][1]\n",
        "  new_vectors = np.delete(vectors_hw1, np.s_[size*i:size*(i+1)], axis=0)\n",
        "  missig_vectors = vectors_hw1[size*i:size*(i+1)]\n",
        "  ith_decoder = learn_decoder(train_set, new_vectors) # gets the decoder matrix\n",
        "  semantic_vectors_pred = np.dot(test_set, ith_decoder) # gets the semantic vectors\n",
        "  ranks_list = average_rank_metric(semantic_vectors_pred, missig_vectors, vectors_hw1)\n",
        "  accuracy_for_all_concepts += ranks_list\n",
        "  accuracy_average.append(sum(ranks_list) / len(ranks_list))"
      ]
    },
    {
      "cell_type": "code",
      "execution_count": null,
      "metadata": {
        "id": "ac9AQO4o0C6Y"
      },
      "outputs": [],
      "source": [
        "w2v_accuracy_average, w2v_accuracy_for_all_concepts = train(w2v_data, w2v_vectors, len(w2v_data)//10)"
      ]
    },
    {
      "cell_type": "code",
      "execution_count": null,
      "metadata": {
        "id": "zMbfCoUfH2bZ"
      },
      "outputs": [],
      "source": [
        "accuracy_average, accuracy_for_all_concepts = train(data_hw1, vectors_hw1, len(data_hw1) // 10)"
      ]
    },
    {
      "cell_type": "code",
      "execution_count": null,
      "metadata": {
        "id": "Z4HHdj5xIRnH"
      },
      "outputs": [],
      "source": [
        "import matplotlib.pyplot as plt\n",
        "\n",
        "def plot_data(accuracy_average, ds_size, plot_mean=True):\n",
        "  ds_size= int(ds_size / 2)\n",
        "  num = len(accuracy_average)\n",
        "  x_values = list(range(1, num + 1))\n",
        "  y_values = list(range(0, 2 * ds_size, 10))\n",
        "  plt.xticks(x_values)\n",
        "  plt.yticks(y_values)\n",
        "  plt.bar(x_values, accuracy_average)\n",
        "  if plot_mean:\n",
        "    plt.plot([1, num + 1], [ds_size, ds_size])\n",
        "  plt.show()\n",
        "  print(\"The average rank is: \", sum(accuracy_average) / len(accuracy_average))\n",
        "  print(\"The normallized of average rank: \", (sum(accuracy_average) / len(accuracy_average)) / (ds_size * 2))"
      ]
    },
    {
      "cell_type": "code",
      "execution_count": null,
      "metadata": {
        "colab": {
          "base_uri": "https://localhost:8080/",
          "height": 469
        },
        "id": "rcwrQSxGH8ci",
        "outputId": "97bfa0e6-cd78-4356-dcf8-2e8f445c5707"
      },
      "outputs": [
        {
          "data": {
            "image/png": "[encoded data removed]",
            "text/plain": [
              "<Figure size 640x480 with 1 Axes>"
            ]
          },
          "metadata": {},
          "output_type": "display_data"
        },
        {
          "name": "stdout",
          "output_type": "stream",
          "text": [
            "The average rank is:  61.91111111111112\n",
            "The normallized of average rank:  0.34395061728395065\n"
          ]
        }
      ],
      "source": [
        "plot_data(accuracy_average, data_hw1.shape[0])"
      ]
    },
    {
      "cell_type": "code",
      "execution_count": null,
      "metadata": {
        "colab": {
          "base_uri": "https://localhost:8080/",
          "height": 465
        },
        "id": "b4waoAPo0ywP",
        "outputId": "adb8207a-90c4-480e-d976-9de17984462b"
      },
      "outputs": [
        {
          "data": {
            "image/png": "[encoded data removed]",
            "text/plain": [
              "<Figure size 640x480 with 1 Axes>"
            ]
          },
          "metadata": {},
          "output_type": "display_data"
        },
        {
          "name": "stdout",
          "output_type": "stream",
          "text": [
            "The average rank is:  58.01176470588235\n",
            "The normallized of average rank:  0.3412456747404844\n"
          ]
        }
      ],
      "source": [
        "plot_data(w2v_accuracy_average, w2v_data.shape[0])"
      ]
    },
    {
      "cell_type": "code",
      "execution_count": null,
      "metadata": {
        "id": "8xcozYJxG3JM"
      },
      "outputs": [],
      "source": [
        "def print_tops_bottoms(curr_accuracy_for_all_concepts, curr_concepts):\n",
        "  smallest_indexes, largest_indexes = get_smallest_and_largest_indexes(curr_accuracy_for_all_concepts)\n",
        "  top5 = []\n",
        "  worst5 = []\n",
        "  for i in smallest_indexes:\n",
        "    top5.append(curr_concepts[i])\n",
        "  for i in largest_indexes:\n",
        "    worst5.append(curr_concepts[i])\n",
        "  print(\"the top 5 are: \", top5)\n",
        "  print(\"the worst 5 are: \", worst5)\n",
        "  concepts_better_than_25 = []\n",
        "  concepts_worse_than_150 = []\n",
        "  for i in range(len(curr_accuracy_for_all_concepts)):\n",
        "    if curr_accuracy_for_all_concepts[i] < 25:\n",
        "      concepts_better_than_25.append(curr_concepts[i])\n",
        "    elif curr_accuracy_for_all_concepts[i] > 150:\n",
        "      concepts_worse_than_150.append(curr_concepts[i])\n",
        "\n",
        "  print(\"the less success concepts: \", concepts_worse_than_150)\n",
        "  print(\"the more success concepts: \", concepts_better_than_25)"
      ]
    },
    {
      "cell_type": "code",
      "execution_count": null,
      "metadata": {
        "colab": {
          "base_uri": "https://localhost:8080/"
        },
        "id": "M3Z12qOYHdGu",
        "outputId": "f630e8ef-af21-49dd-e8b1-47fcf3e8807f"
      },
      "outputs": [
        {
          "name": "stdout",
          "output_type": "stream",
          "text": [
            "the top 5 are:  ['do', 'food', 'time', 'great', 'laugh']\n",
            "the worst 5 are:  ['electron', 'deceive', 'applause', 'cockroach', 'argumentatively']\n",
            "the less success concepts:  ['applause', 'argumentatively', 'cockroach', 'deceive', 'dissolve', 'electron', 'elegance', 'movie', 'sew', 'sin', 'usable']\n",
            "the more success concepts:  ['ability', 'angry', 'art', 'attitude', 'big', 'building', 'business', 'construction', 'crazy', 'damage', 'dinner', 'do', 'dog', 'event', 'extremely', 'feeling', 'fish', 'food', 'great', 'hair', 'help', 'lady', 'laugh', 'left', 'light', 'money', 'mountain', 'music', 'pain', 'picture', 'play', 'poor', 'quality', 'read', 'relationship', 'road', 'shape', 'show', 'silly', 'skin', 'soul', 'stupid', 'successful', 'taste', 'team', 'time', 'tried', 'unaware', 'wear', 'word']\n"
          ]
        }
      ],
      "source": [
        "print_tops_bottoms(accuracy_for_all_concepts, concepts_hw1)"
      ]
    },
    {
      "cell_type": "code",
      "execution_count": null,
      "metadata": {
        "colab": {
          "base_uri": "https://localhost:8080/"
        },
        "id": "wOm61dSHHmP8",
        "outputId": "3ee3acda-02d9-4331-d965-d23f1881633e"
      },
      "outputs": [
        {
          "name": "stdout",
          "output_type": "stream",
          "text": [
            "the top 5 are:  ['feeling', 'philosophy', 'stupid', 'emotion', 'food']\n",
            "the worst 5 are:  ['table', 'driver', 'spoke', 'movie', 'vacation']\n",
            "the less success concepts:  ['movie', 'vacation']\n",
            "the more success concepts:  ['ability', 'angry', 'art', 'attitude', 'bag', 'building', 'carefully', 'cook', 'crazy', 'damage', 'deceive', 'dig', 'disturb', 'emotion', 'feeling', 'food', 'hair', 'lady', 'laugh', 'liar', 'money', 'music', 'pain', 'philosophy', 'picture', 'reaction', 'religious', 'seafood', 'sew', 'shape', 'silly', 'skin', 'smiling', 'soul', 'stupid', 'suspect', 'time', 'trial']\n"
          ]
        }
      ],
      "source": [
        "print_tops_bottoms(w2v_accuracy_for_all_concepts, w2v_concepts)"
      ]
    },
    {
      "cell_type": "markdown",
      "metadata": {
        "id": "CuDZ_JvhzQXe"
      },
      "source": [
        "## Q2"
      ]
    },
    {
      "cell_type": "markdown",
      "metadata": {
        "id": "2tSa5sLTyoMH"
      },
      "source": [
        "Experiment 1 used individual concepts as stimuli, with two goals. The first was to validate whether a decoder trained on imaging data for individual concepts would generalize to new concepts. The second goal was to comparatively evaluate three experimental approaches to highlighting the relevant meaning of a given word, necessary because\n",
        "most words are ambiguous. Experiments 2 and 3 used text passages as stimuli. Their goal was to test whether a decoder trained\n",
        "on individual concept imaging data would decode semantic\n",
        "vectors from sentence imaging data. The stimuli for both\n",
        "experiments were developed independently of those in experiment 1. In particular, for experiment 2, used materials\n",
        "developed for a prior unpublished study, with topics selected to\n",
        "span a wide range of semantic categories."
      ]
    },
    {
      "cell_type": "markdown",
      "metadata": {
        "id": "3lfBNgrKBF00"
      },
      "source": [
        "## Q3"
      ]
    },
    {
      "cell_type": "markdown",
      "metadata": {
        "id": "ccu9t16pMLM4"
      },
      "source": [
        "The neural ds in HW3 contain 170712 voxels. The neural datasets 2,3 contains  185866 voxels. So we train the decoder on the full version of the ds from HW3 so it will fit the ds in this part."
      ]
    },
    {
      "cell_type": "code",
      "execution_count": null,
      "metadata": {
        "id": "TI1--ZgcGl3Q"
      },
      "outputs": [],
      "source": [
        "import pickle\n",
        "import pandas as pd\n",
        "\n",
        "def open_pkl(path):\n",
        "  with open(path, 'rb') as f:\n",
        "    data = pickle.load(f)\n",
        "  return data\n",
        "\n",
        "\n",
        "def read_txt(path):\n",
        "  with open(path, 'r') as file:\n",
        "    file_contents = file.read()\n",
        "    return file_contents\n"
      ]
    },
    {
      "cell_type": "code",
      "execution_count": null,
      "metadata": {
        "id": "6KXi5_kRNvfM"
      },
      "outputs": [],
      "source": [
        "#The full ds from HW3 with 185866 voxels.\n",
        "train_data_path = \"/content/drive/MyDrive/Language Cognition Computation Final Project2/עותק של neuralData_for_EXP1.csv\"\n",
        "\n",
        "full_data = pd.read_csv(train_data_path, index_col=0, usecols=lambda column: column != 1)"
      ]
    },
    {
      "cell_type": "code",
      "execution_count": null,
      "metadata": {
        "id": "0Sh0-YbN63lS"
      },
      "outputs": [],
      "source": [
        "#loading the ds sentence ds from the drive and the sentences themself for ds 2, 3.\n",
        "dataset2_path = \"/content/drive/MyDrive/Language Cognition Computation Final Project2/עותק של EXP2.pkl\"\n",
        "dataset3_path = \"/content/drive/MyDrive/Language Cognition Computation Final Project2/עותק של EXP3.pkl\"\n",
        "vectors_ds2_path = \"/content/drive/MyDrive/Language Cognition Computation Final Project2/עותק של vectors_384sentences.GV42B300.average.txt\"\n",
        "vectors_ds3_path = \"/content/drive/MyDrive/Language Cognition Computation Final Project2/עותק של vectors_243sentences.GV42B300.average.txt\"\n",
        "\n",
        "#convert the ds and vectors to the right type\n",
        "dataset2 = open_pkl(dataset2_path)\n",
        "dataset3 = open_pkl(dataset3_path)\n",
        "vectors_dataset2 = read_matrix(vectors_ds2_path, sep=\" \")\n",
        "vectors_dataset3 = read_matrix(vectors_ds3_path, sep=\" \")\n",
        "Fmridata2 = dataset2['Fmridata']\n",
        "Fmridata3 = dataset3['Fmridata']\n",
        "concepts2 = dataset2['keySentences']\n",
        "concepts3 = dataset3['keySentences']"
      ]
    },
    {
      "cell_type": "code",
      "execution_count": null,
      "metadata": {
        "id": "kPxy67VIWvtl"
      },
      "outputs": [],
      "source": [
        "decoder_HW3 = learn_decoder(full_data, vectors_hw1) # learns the decoder over HW3 ds."
      ]
    },
    {
      "cell_type": "code",
      "execution_count": null,
      "metadata": {
        "colab": {
          "base_uri": "https://localhost:8080/"
        },
        "id": "_bVkGqX_JD4p",
        "outputId": "8cf7b0fd-971b-4132-8c39-20ce546def96"
      },
      "outputs": [
        {
          "data": {
            "image/png": "[encoded data removed]",
            "text/plain": [
              "<Figure size 640x480 with 1 Axes>"
            ]
          },
          "metadata": {},
          "output_type": "display_data"
        },
        {
          "name": "stdout",
          "output_type": "stream",
          "text": [
            "The average rank is:  156.92708333333334\n",
            "The average percent of average rank:  0.4086642795138889\n"
          ]
        },
        {
          "data": {
            "image/png": "[encoded data removed]",
            "text/plain": [
              "<Figure size 640x480 with 1 Axes>"
            ]
          },
          "metadata": {},
          "output_type": "display_data"
        },
        {
          "name": "stdout",
          "output_type": "stream",
          "text": [
            "The average rank is:  100.7448559670782\n",
            "The average percent of average rank:  0.41630105771519915\n"
          ]
        }
      ],
      "source": [
        "pred_ds2 = np.dot(Fmridata2, decoder_HW3) # gets the semantic vectors\n",
        "pred_ds3 = np.dot(Fmridata3, decoder_HW3)\n",
        "ranks_ds2 = average_rank_metric(pred_ds2, vectors_dataset2 , vectors_dataset2)\n",
        "ranks_ds3 = average_rank_metric(pred_ds3, vectors_dataset3, vectors_dataset3)\n",
        "k3 = 27 # The size of each fold in ds3\n",
        "k2 = 32 # The size of each fold in ds2\n",
        "average_ranks_ds2 = [sum(ranks_ds2[i*k2:(i+1)*k2])/ len(ranks_ds2[i*k2:(i+1)*k2]) for i in range(12)]\n",
        "average_ranks_ds3 = [sum(ranks_ds3[i*k3:(i+1)*k3])/ len(ranks_ds3[i*k3:(i+1)*k3]) for i in range(9)]\n",
        "plot_data(average_ranks_ds2, len(pred_ds2))\n",
        "plot_data(average_ranks_ds3, len(pred_ds3))"
      ]
    },
    {
      "cell_type": "markdown",
      "metadata": {
        "id": "0Iy5ULhuFuna"
      },
      "source": [
        "## Q4"
      ]
    },
    {
      "cell_type": "code",
      "execution_count": null,
      "metadata": {
        "id": "Hnzb921iX0YD"
      },
      "outputs": [],
      "source": [
        "keyPassageCategory2 = dataset2['keyPassageCategory'][0] #a list of all broad categories/topics\n",
        "keyPassages2 = dataset2['keyPassages'] # the names of the passages\n",
        "keySentences2 = dataset2['keySentences'] # the sentences (same as in stimuli_243sentences.txt  )\n",
        "labelsPassageCategory2 = dataset2['labelsPassageCategory'] # The category/topic’s id for each passage\n",
        "labelsPassageForEachSentence2 = dataset2['labelsPassageForEachSentence'] # The passage’s ids for every sentence (each sentence comes from a specific passage.\n",
        "#The id of each sentence in this list is the relevant passage’s id)"
      ]
    },
    {
      "cell_type": "code",
      "execution_count": null,
      "metadata": {
        "id": "EhsWEaRXfnoM"
      },
      "outputs": [],
      "source": [
        "keyPassageCategory3 = dataset3['keyPassageCategory'][0] #a list of all broad categories/topics\n",
        "keyPassages3 = dataset3['keyPassages'] # the names of the passages\n",
        "keySentences3 = dataset3['keySentences'] # the sentences (same as in stimuli_243sentences.txt  )\n",
        "labelsPassageCategory3 = dataset3['labelsPassageCategory'] # The category/topic’s id for each passage\n",
        "labelsPassageForEachSentence3 = dataset3['labelsPassageForEachSentence'] # The passage’s ids for every sentence (each sentence comes from a specific passage.\n",
        "#The id of each sentence in this list is the relevant passage’s id)"
      ]
    },
    {
      "cell_type": "code",
      "execution_count": null,
      "metadata": {
        "id": "vOUhvsXyb4Bj"
      },
      "outputs": [],
      "source": [
        "def combine_all_sentences_to_passages(keyPassage, sentences_rank, labelsPassage):\n",
        "  \"\"\"\n",
        "  @keyPassage: list of all passages\n",
        "  @sentences_rank:  the average rank metric score of the sentences\n",
        "  @labelsPassage: The passages ids for every sentence\n",
        "  @return: dictionary of the passages as keys and all the sentences of the passage as values.\n",
        "  \"\"\"\n",
        "  passage_dict = {}\n",
        "  for passage in keyPassage:\n",
        "    passage_dict[str(passage[0][0])] = [] # create an empty list for all the sentences of a passage.\n",
        "  for i in range(len(sentences_rank)): # add the rank of every sentence to it's passage dict.\n",
        "    passage_dict[str(keyPassage[int(labelsPassage[i][0])-1][0][0])].append(sentences_rank[i])\n",
        "  return passage_dict\n",
        "\n",
        "def combine_all_passages_to_topics(keyPassageTopics, labelsTopics, keyPassages, combined_passages):\n",
        "  \"\"\"\n",
        "  @keyPassageTopics: list of all broad topics\n",
        "  @labelsTopics: The category/topics id for each passage.\n",
        "  @keyPassage: list of all passages\n",
        "  @combined_passages: the dictionary of passage as keys and all their sentences as values.\n",
        "  \"\"\"\n",
        "  topics_dict = {}\n",
        "  for topic in keyPassageTopics:\n",
        "    topics_dict[str(topic[0])] = [] # create an empty list for all the sentences of the topic's passages.\n",
        "  for i in range(len(labelsTopics)): # for every topic add the sentences of the passages that belong to the topic.\n",
        "    topics_dict[str(keyPassageTopics[int(labelsTopics[i][0] - 1)][0])] += combined_passages[keyPassages[i][0][0]]\n",
        "  average_dict ={}\n",
        "  for key in topics_dict.keys():\n",
        "    if len(topics_dict[key]) != 0:\n",
        "      average_dict[key] = sum(topics_dict[key]) / len(topics_dict[key])\n",
        "  return topics_dict, average_dict"
      ]
    },
    {
      "cell_type": "code",
      "execution_count": null,
      "metadata": {
        "colab": {
          "base_uri": "https://localhost:8080/"
        },
        "id": "isd0INeHETjD",
        "outputId": "987939ce-427c-4373-8e74-49812d46d42d"
      },
      "outputs": [
        {
          "name": "stdout",
          "output_type": "stream",
          "text": [
            "[('body_part', 70.4375), ('human', 92.75), ('drink_non_alcoholic', 98.9375), ('dwelling', 113.6875), ('appliance', 113.75), ('furniture', 131.875), ('kitchen_utensil', 141.25), ('disaster', 149.3125), ('fish', 152.375), ('tool', 153.0625), ('bird', 156.3125), ('place', 157.5), ('building_part', 158.625), ('clothing', 160.3125), ('weapon', 163.8125), ('crime', 164.875), ('fruit', 176.3125), ('landscape', 176.5), ('insect', 179.875), ('music', 185.0), ('vehicles_transport', 186.6875), ('animal', 196.25), ('vegetable', 237.625), ('profession', 249.125)]\n",
            "[('dreams', 52.8), ('stress', 58.2), ('castle', 59.1), ('opera', 63.63636363636363), ('bone_fracture', 68.0909090909091), ('law_school', 68.2), ('gambling', 71.6), ('taste', 78.66666666666667), ('painter', 80.9), ('polar_bear', 81.7), ('computer_graphics', 89.5), ('hurricane', 99.8), ('tuxedo', 101.4), ('blindness', 104.9), ('rock_climbing', 108.18181818181819), ('astronaut', 110.7), ('infection', 118.2), ('ice_cream', 119.6), ('skiing', 129.5), ('pharmacist', 136.6), ('pyramid', 147.2), ('lawn_mower', 148.1), ('owl', 148.6), ('beekeeping', 169.8181818181818)]\n"
          ]
        }
      ],
      "source": [
        "passages_dict_ds2 = combine_all_sentences_to_passages(keyPassages2, ranks_ds2, labelsPassageForEachSentence2)\n",
        "topics_dict_ds2, topics_averges_dict2 = combine_all_passages_to_topics(keyPassageCategory2, labelsPassageCategory2, keyPassages2, passages_dict_ds2)\n",
        "sorted_average_topics_dict_ds2 = sorted(topics_averges_dict2.items(), key=lambda x:x[1])\n",
        "print(sorted_average_topics_dict_ds2)\n",
        "\n",
        "passages_dict_ds3 = combine_all_sentences_to_passages(keyPassages3, ranks_ds3, labelsPassageForEachSentence3)\n",
        "topics_dict_ds3, topics_averges_dict3 = combine_all_passages_to_topics(keyPassageCategory3, labelsPassageCategory3, keyPassages3, passages_dict_ds3)\n",
        "sorted_average_topics_dict_ds3 = sorted(topics_averges_dict3.items(), key=lambda x:x[1])\n",
        "print(sorted_average_topics_dict_ds3)"
      ]
    },
    {
      "cell_type": "code",
      "execution_count": null,
      "metadata": {
        "colab": {
          "base_uri": "https://localhost:8080/"
        },
        "id": "CtBlrZLpWOfK",
        "outputId": "cd8e03bd-6781-4fbf-9d76-9b222dda7849"
      },
      "outputs": [
        {
          "name": "stdout",
          "output_type": "stream",
          "text": [
            "worst 5 topics in ds2:  [('body_part', 70.4375), ('human', 92.75), ('drink_non_alcoholic', 98.9375), ('dwelling', 113.6875), ('appliance', 113.75)]\n",
            "Top 5 topics in ds2:  [('insect', 179.875), ('music', 185.0), ('vehicles_transport', 186.6875), ('animal', 196.25), ('vegetable', 237.625), ('profession', 249.125)]\n",
            "In ds3 all the sentences were from the same topic:  [('dreams', 52.8), ('stress', 58.2), ('castle', 59.1), ('opera', 63.63636363636363), ('bone_fracture', 68.0909090909091), ('law_school', 68.2), ('gambling', 71.6), ('taste', 78.66666666666667), ('painter', 80.9), ('polar_bear', 81.7), ('computer_graphics', 89.5), ('hurricane', 99.8), ('tuxedo', 101.4), ('blindness', 104.9), ('rock_climbing', 108.18181818181819), ('astronaut', 110.7), ('infection', 118.2), ('ice_cream', 119.6), ('skiing', 129.5), ('pharmacist', 136.6), ('pyramid', 147.2), ('lawn_mower', 148.1), ('owl', 148.6), ('beekeeping', 169.8181818181818)]\n"
          ]
        }
      ],
      "source": [
        "print(\"worst 5 topics in ds2: \", sorted_average_topics_dict_ds2[:5])\n",
        "print(\"Top 5 topics in ds2: \", sorted_average_topics_dict_ds2[-6:])\n",
        "print(\"worst 5 topics in ds3: \", sorted_average_topics_dict_ds3[:5])\n",
        "print(\"Top 5 topics in ds3: \", sorted_average_topics_dict_ds3[-6:])"
      ]
    },
    {
      "cell_type": "markdown",
      "metadata": {
        "id": "ay4AH7hjVen0"
      },
      "source": [
        "# Semi Structered Task"
      ]
    },
    {
      "cell_type": "markdown",
      "metadata": {
        "id": "Yjc0pzW-oT4t"
      },
      "source": [
        "### Q1"
      ]
    },
    {
      "cell_type": "code",
      "execution_count": null,
      "metadata": {
        "id": "VdsteR6XVmrK"
      },
      "outputs": [],
      "source": [
        "!pip install transformers #datasets evaluate sacrebleu sentencepiece"
      ]
    },
    {
      "cell_type": "code",
      "execution_count": null,
      "metadata": {
        "id": "S-3Z54v7K5Hd"
      },
      "outputs": [],
      "source": [
        "from transformers import BertModel, BertTokenizer\n",
        "import torch"
      ]
    },
    {
      "cell_type": "code",
      "execution_count": null,
      "metadata": {
        "id": "Qd9e5RD0obOX"
      },
      "outputs": [],
      "source": [
        "tokenizer = BertTokenizer.from_pretrained('bert-base-uncased')\n",
        "model = BertModel.from_pretrained('bert-base-uncased',\n",
        "                                  output_hidden_states = True, # Whether the model returns all hidden-states.\n",
        "                                  )\n",
        "model.eval()"
      ]
    },
    {
      "cell_type": "code",
      "execution_count": null,
      "metadata": {
        "id": "eKcLrsol8p4K"
      },
      "outputs": [],
      "source": [
        "def get_list_of_concepts(concepts):\n",
        "  \"\"\"\n",
        "  The given datasets contain inner arrays for every element so we clean it.\n",
        "  \"\"\"\n",
        "  list_of_concepts = []\n",
        "  for i, sent in enumerate(concepts):\n",
        "    list_of_concepts.append(sent[0][0])\n",
        "  return list_of_concepts"
      ]
    },
    {
      "cell_type": "code",
      "execution_count": null,
      "metadata": {
        "id": "pYlraRkm_M8Y"
      },
      "outputs": [],
      "source": [
        "#embed_sentences = np.array((243, 786), dtype=np.float32)\n",
        "def contexulliazed_embedding(list_of_concepts):\n",
        "  embed_sentences = []\n",
        "  layers_embed_dict =  {}\n",
        "  for i in range(1,13):\n",
        "    layers_embed_dict[i] = []\n",
        "  #for i, sent in enumerate(sentences):\n",
        "  for i, sent in enumerate(list_of_concepts):\n",
        "    marked_sent = \"[CLS] \" + str(sent) + \" [SEP]\" # adds the beginning and end tokens\n",
        "    # Tokenize our sentence with the BERT tokenizer.\n",
        "    tokenized_sent = tokenizer.tokenize(marked_sent)\n",
        "    # Map the token strings to their vocabulary indeces.\n",
        "    indexed_tokens = tokenizer.convert_tokens_to_ids(tokenized_sent)\n",
        "    segments_ids = [1] * len(tokenized_sent)\n",
        "    tokens_tensor = torch.tensor([indexed_tokens])\n",
        "    segments_tensors = torch.tensor([segments_ids])\n",
        "    with torch.no_grad():\n",
        "      outputs = model(tokens_tensor, segments_tensors)\n",
        "      hidden_states = outputs[2]\n",
        "\n",
        "    for j in range(1,13):\n",
        "      layers_embed_dict[j].append(torch.Tensor.numpy(torch.mean(torch.squeeze(hidden_states[j], dim=0), 0)))\n",
        "    token_embeddings = torch.stack(hidden_states, dim=0)\n",
        "    token_embeddings = torch.squeeze(token_embeddings, dim=1)\n",
        "    token_embeddings = token_embeddings.permute(1,0,2)\n",
        "    token_vecs = hidden_states[-2][0]\n",
        "    # Calculate the average of all token vectors.\n",
        "    sentence_embedding = torch.mean(token_vecs, dim=0)\n",
        "    #embed_sentences[i][:] = sentence_embedding.numpy()\n",
        "    embed_sentences.append(sentence_embedding.numpy())\n",
        "  embed_sentences_array = np.stack(embed_sentences)\n",
        "  return embed_sentences_array, layers_embed_dict"
      ]
    },
    {
      "cell_type": "code",
      "source": [
        "bert_sentence_embedding_ds3, bert_layers_embedding_ds3 = contexulliazed_embedding(get_list_of_concepts(concepts3))"
      ],
      "metadata": {
        "id": "zGErePgJMg-3"
      },
      "execution_count": null,
      "outputs": []
    },
    {
      "cell_type": "code",
      "execution_count": null,
      "metadata": {
        "id": "wEbmDhRdomq5",
        "outputId": "254f875e-3168-4223-814d-e0a2e2a9c54e",
        "colab": {
          "base_uri": "https://localhost:8080/",
          "height": 482
        }
      },
      "outputs": [
        {
          "output_type": "display_data",
          "data": {
            "text/plain": [
              "<Figure size 640x480 with 1 Axes>"
            ],
            "image/png": "[encoded data removed]"
          },
          "metadata": {}
        },
        {
          "output_type": "stream",
          "name": "stdout",
          "text": [
            "The average rank is:  99.81069958847736\n",
            "The normallized of average rank:  0.41244090739040234\n",
            "The above is for bert's embedding and the below is for glove's in dataset 2\n"
          ]
        }
      ],
      "source": [
        "bert_accuracy_average_ds3, bert_accuracy_for_all_concepts_ds3 = train(Fmridata3, np.array(bert_sentence_embedding_ds3), 9)\n",
        "plot_data(bert_accuracy_average_ds3, len(concepts3))\n",
        "print(\"The above is for bert's embedding and the below is for glove's in dataset 2\")\n",
        "glove_accuracy_average_ds3, glove_accuracy_for_all_concepts_ds3 = train(Fmridata3, vectors_dataset3, 9)\n",
        "plot_data(glove_accuracy_average_ds3, len(concepts3))\n"
      ]
    },
    {
      "cell_type": "code",
      "source": [
        "bert_sentence_embedding_ds2, bert_layers_embedding_ds2 = contexulliazed_embedding(get_list_of_concepts(concepts2))"
      ],
      "metadata": {
        "id": "8S6Bon1bP_xj"
      },
      "execution_count": null,
      "outputs": []
    },
    {
      "cell_type": "code",
      "execution_count": null,
      "metadata": {
        "colab": {
          "base_uri": "https://localhost:8080/",
          "height": 467
        },
        "id": "Nk3QP_F2G3UB",
        "outputId": "a7975355-2f8c-4939-e616-fee3b948edec"
      },
      "outputs": [
        {
          "data": {
            "image/png": "[encoded data removed]",
            "text/plain": [
              "<Figure size 640x480 with 1 Axes>"
            ]
          },
          "metadata": {},
          "output_type": "display_data"
        },
        {
          "name": "stdout",
          "output_type": "stream",
          "text": [
            "The average rank is:  139.09635416666669\n",
            "The normallized of average rank:  0.3622300889756945\n"
          ]
        }
      ],
      "source": [
        "bert_accuracy_average_ds2, bert_accuracy_for_all_concepts_ds2 = train(Fmridata2, np.array(bert_sentence_embedding_ds2), 8)\n",
        "plot_data(bert_accuracy_average_ds2, len(concepts2))\n",
        "print(\"The above is for bert's embedding and the below is for glove's in dataset 3\")\n",
        "glove_accuracy_average_ds2, glove_accuracy_for_all_concepts_ds2 = train(Fmridata2, vectors_dataset2, 8)\n",
        "plot_data(glove_accuracy_average_ds2, len(concepts2))"
      ]
    },
    {
      "cell_type": "markdown",
      "metadata": {
        "id": "WYI0BCb8Diq8"
      },
      "source": [
        "### Q2"
      ]
    },
    {
      "cell_type": "code",
      "execution_count": null,
      "metadata": {
        "id": "RBdsyooaDSTf"
      },
      "outputs": [],
      "source": [
        "import statsmodels.api as sm\n",
        "\n",
        "voxels = np.transpose(Fmridata2)\n",
        "\n",
        "vec_data_train = sm.add_constant(list(vectors_dataset2))\n",
        "\n",
        "def train_voxels(input_data):\n",
        "  rs = []\n",
        "  for i, y in enumerate(voxels[:1000]):\n",
        "    # print(i)\n",
        "    model = sm.OLS(y, input_data).fit()\n",
        "    # mses.append(mean_squared_error(model.predict(vec_data_train), y))\n",
        "    rs.append((i, model.rsquared))\n",
        "  return rs"
      ]
    },
    {
      "cell_type": "code",
      "execution_count": null,
      "metadata": {
        "colab": {
          "base_uri": "https://localhost:8080/",
          "height": 218
        },
        "id": "L0uejY7ZD24s",
        "outputId": "0c518c43-7464-45a9-8603-b0c7bb563a00"
      },
      "outputs": [
        {
          "output_type": "error",
          "ename": "NameError",
          "evalue": "ignored",
          "traceback": [
            "\u001b[0;31m---------------------------------------------------------------------------\u001b[0m",
            "\u001b[0;31mNameError\u001b[0m                                 Traceback (most recent call last)",
            "\u001b[0;32m<ipython-input-12-f32a6a5cd3fe>\u001b[0m in \u001b[0;36m<cell line: 2>\u001b[0;34m()\u001b[0m\n\u001b[1;32m      1\u001b[0m \u001b[0mrs\u001b[0m \u001b[0;34m=\u001b[0m \u001b[0mtrain_voxels\u001b[0m\u001b[0;34m(\u001b[0m\u001b[0mvec_data_train\u001b[0m\u001b[0;34m)\u001b[0m\u001b[0;34m\u001b[0m\u001b[0;34m\u001b[0m\u001b[0m\n\u001b[0;32m----> 2\u001b[0;31m \u001b[0mbert_rs\u001b[0m \u001b[0;34m=\u001b[0m \u001b[0mtrain_voxels\u001b[0m\u001b[0;34m(\u001b[0m\u001b[0mbert_sentence_embedding_ds2\u001b[0m\u001b[0;34m)\u001b[0m\u001b[0;34m\u001b[0m\u001b[0;34m\u001b[0m\u001b[0m\n\u001b[0m\u001b[1;32m      3\u001b[0m \u001b[0msorted\u001b[0m\u001b[0;34m(\u001b[0m\u001b[0mrs\u001b[0m\u001b[0;34m,\u001b[0m \u001b[0mkey\u001b[0m\u001b[0;34m=\u001b[0m\u001b[0;32mlambda\u001b[0m \u001b[0mr\u001b[0m\u001b[0;34m:\u001b[0m \u001b[0mr\u001b[0m\u001b[0;34m[\u001b[0m\u001b[0;36m1\u001b[0m\u001b[0;34m]\u001b[0m\u001b[0;34m,\u001b[0m \u001b[0mreverse\u001b[0m\u001b[0;34m=\u001b[0m\u001b[0;32mTrue\u001b[0m\u001b[0;34m)\u001b[0m\u001b[0;34m[\u001b[0m\u001b[0;34m:\u001b[0m\u001b[0;36m10\u001b[0m\u001b[0;34m]\u001b[0m\u001b[0;34m\u001b[0m\u001b[0;34m\u001b[0m\u001b[0m\n\u001b[1;32m      4\u001b[0m \u001b[0msorted\u001b[0m\u001b[0;34m(\u001b[0m\u001b[0mbert_rs\u001b[0m\u001b[0;34m,\u001b[0m \u001b[0mkey\u001b[0m\u001b[0;34m=\u001b[0m\u001b[0;32mlambda\u001b[0m \u001b[0mr\u001b[0m\u001b[0;34m:\u001b[0m \u001b[0mr\u001b[0m\u001b[0;34m[\u001b[0m\u001b[0;36m1\u001b[0m\u001b[0;34m]\u001b[0m\u001b[0;34m,\u001b[0m \u001b[0mreverse\u001b[0m\u001b[0;34m=\u001b[0m\u001b[0;32mTrue\u001b[0m\u001b[0;34m)\u001b[0m\u001b[0;34m[\u001b[0m\u001b[0;34m:\u001b[0m\u001b[0;36m10\u001b[0m\u001b[0;34m]\u001b[0m\u001b[0;34m\u001b[0m\u001b[0;34m\u001b[0m\u001b[0m\n",
            "\u001b[0;31mNameError\u001b[0m: name 'bert_sentence_embedding_ds2' is not defined"
          ]
        }
      ],
      "source": [
        "rs = train_voxels(vec_data_train)\n",
        "bert_rs = train_voxels(bert_sentence_embedding_ds2)\n",
        "sorted(rs, key=lambda r: r[1], reverse=True)[:10]\n",
        "sorted(bert_rs, key=lambda r: r[1], reverse=True)[:10]"
      ]
    },
    {
      "cell_type": "code",
      "execution_count": null,
      "metadata": {
        "id": "hiGuI6srabTO"
      },
      "outputs": [],
      "source": [
        "best_rs = sorted(rs, key=lambda r: r[1], reverse=True)[:10]"
      ]
    },
    {
      "cell_type": "code",
      "source": [
        "from sklearn.metrics import mean_squared_error\n",
        "best_mses = []\n",
        "for r in best_rs:\n",
        "  m = sm.OLS(voxels[r[0]], vec_data_train).fit()\n",
        "  pred = m.predict(vec_data_train)\n",
        "  best_mses.append(mean_squared_error(pred, voxels[r[0]]))\n"
      ],
      "metadata": {
        "id": "3y5Y2nz3hb-n"
      },
      "execution_count": null,
      "outputs": []
    },
    {
      "cell_type": "code",
      "source": [
        "best_mses"
      ],
      "metadata": {
        "id": "NuQ8FKssimhy",
        "outputId": "0706f60b-1401-4262-f145-1b1af329592c",
        "colab": {
          "base_uri": "https://localhost:8080/"
        }
      },
      "execution_count": null,
      "outputs": [
        {
          "output_type": "execute_result",
          "data": {
            "text/plain": [
              "[3.515021709335523,\n",
              " 6.33287183459979,\n",
              " 12.22341947985023,\n",
              " 0.9567068430013239,\n",
              " 2.776568090797474,\n",
              " 6.62514195193626,\n",
              " 2.192907506350321,\n",
              " 1.6163881110239526,\n",
              " 1.966536585681993,\n",
              " 2.593362973277282]"
            ]
          },
          "metadata": {},
          "execution_count": 17
        }
      ]
    },
    {
      "cell_type": "code",
      "execution_count": null,
      "metadata": {
        "colab": {
          "base_uri": "https://localhost:8080/"
        },
        "id": "JaObLsbVf7bt",
        "outputId": "8995bf4a-bf6c-4e8d-e3ba-0b8657d4374c"
      },
      "outputs": [
        {
          "data": {
            "text/plain": [
              "384"
            ]
          },
          "execution_count": 82,
          "metadata": {},
          "output_type": "execute_result"
        }
      ],
      "source": [
        "len(bert_sentence_embedding_ds2)"
      ]
    },
    {
      "cell_type": "code",
      "execution_count": null,
      "metadata": {
        "colab": {
          "base_uri": "https://localhost:8080/",
          "height": 430
        },
        "id": "FG5HYZgxUniW",
        "outputId": "be974845-76f4-4e19-c942-407657db5b45"
      },
      "outputs": [
        {
          "data": {
            "image/png": "[encoded data removed]",
            "text/plain": [
              "<Figure size 640x480 with 1 Axes>"
            ]
          },
          "metadata": {},
          "output_type": "display_data"
        }
      ],
      "source": [
        "import matplotlib.pyplot as plt\n",
        "x = list(range(len(rs)))\n",
        "\n",
        "plt.scatter(x, list(map(lambda r: r[1], sorted(rs, key=lambda r: r[1], reverse=True))))\n",
        "plt.show()"
      ]
    },
    {
      "cell_type": "code",
      "execution_count": null,
      "metadata": {
        "colab": {
          "base_uri": "https://localhost:8080/"
        },
        "id": "eZyZTiZXQZmP",
        "outputId": "7c1765fb-8c6e-4bb6-aa1f-9400193bb79a"
      },
      "outputs": [
        {
          "data": {
            "text/plain": [
              "243"
            ]
          },
          "execution_count": 47,
          "metadata": {},
          "output_type": "execute_result"
        }
      ],
      "source": [
        "len(vec_data_train)"
      ]
    },
    {
      "cell_type": "markdown",
      "metadata": {
        "id": "nj0BYM9T_T_v"
      },
      "source": [
        "# Open task"
      ]
    },
    {
      "cell_type": "markdown",
      "metadata": {
        "id": "hSB9W6k5_diG"
      },
      "source": [
        "Our idea is to compare the embeddings of all the voxels in every layer in the transformer's layers, and see which layer learned the best rerpresantion of the voxels, and compare the different layers embeddings in another ways we will elborate later.\n",
        "\n"
      ]
    },
    {
      "cell_type": "markdown",
      "metadata": {
        "id": "U9__Hk47XPjm"
      },
      "source": [
        "## Analyizing the layers embeddings."
      ]
    },
    {
      "cell_type": "markdown",
      "metadata": {
        "id": "8Ye2M5ppXaUH"
      },
      "source": [
        "We will try to understant where did we get the best embedding in the transformer.\n",
        "\n",
        "Is it in the last layer? One of the layers? Combination of them or something else maybe.\n",
        "\n",
        "To do so we will learn a decoder for all of the layers' embedding first and try to understand which layer got the best result alone."
      ]
    },
    {
      "cell_type": "markdown",
      "metadata": {
        "id": "wllbt-xgK3Zw"
      },
      "source": [
        "### With decoder"
      ]
    },
    {
      "cell_type": "code",
      "execution_count": null,
      "metadata": {
        "id": "uZM_X5bLXZt-"
      },
      "outputs": [],
      "source": [
        "layers_average_rank_ds3 = []\n",
        "for i in range(1,13):\n",
        "  layer_accuracy_average_ds3, layer_accuracy_for_all_concepts_ds3 = train(Fmridata3, np.array(bert_layers_embedding_ds3[i]), 9)\n",
        "  layers_average_rank_ds3 += [(i, sum(layer_accuracy_average_ds3)/ len(layer_accuracy_average_ds3))]"
      ]
    },
    {
      "cell_type": "code",
      "execution_count": null,
      "metadata": {
        "colab": {
          "base_uri": "https://localhost:8080/",
          "height": 465
        },
        "id": "30T8hgSrUpje",
        "outputId": "7f25e849-7129-416e-aa8e-048e66bb05e6"
      },
      "outputs": [
        {
          "output_type": "display_data",
          "data": {
            "text/plain": [
              "<Figure size 640x480 with 1 Axes>"
            ],
            "image/png": "[encoded data removed]"
          },
          "metadata": {}
        },
        {
          "output_type": "stream",
          "name": "stdout",
          "text": [
            "The average rank is:  97.80624142661179\n",
            "The normallized of average rank:  0.40415802242401566\n"
          ]
        }
      ],
      "source": [
        "layers_ranks_ds3 = [x[1] for x in layers_average_rank_ds3]\n",
        "plot_data(layers_ranks_ds3, len(concepts3), plot_mean=False)"
      ]
    },
    {
      "cell_type": "code",
      "source": [
        "layers_ranks_ds3"
      ],
      "metadata": {
        "colab": {
          "base_uri": "https://localhost:8080/"
        },
        "id": "m8po6YrEHlci",
        "outputId": "f4efc851-7621-4b27-c9db-7a1682746e68"
      },
      "execution_count": null,
      "outputs": [
        {
          "output_type": "execute_result",
          "data": {
            "text/plain": [
              "[95.79423868312756,\n",
              " 96.91358024691357,\n",
              " 97.201646090535,\n",
              " 96.87242798353908,\n",
              " 98.58847736625515,\n",
              " 98.6954732510288,\n",
              " 98.06995884773664,\n",
              " 98.05349794238683,\n",
              " 96.83539094650206,\n",
              " 97.39094650205762,\n",
              " 99.81069958847736,\n",
              " 99.44855967078189]"
            ]
          },
          "metadata": {},
          "execution_count": 25
        }
      ]
    },
    {
      "cell_type": "code",
      "source": [
        "noramllized_layers_ds3 = [(i, layers_ranks_ds3[i-1], layers_ranks_ds3[i-1]/len(concepts3)) for i in range(1,13)]\n",
        "sorted(noramllized_layers_ds3, key=lambda x:x[1])"
      ],
      "metadata": {
        "colab": {
          "base_uri": "https://localhost:8080/"
        },
        "id": "CowTDmcAHGKM",
        "outputId": "2e542e60-bfed-468f-9e1b-e79178e2ae15"
      },
      "execution_count": null,
      "outputs": [
        {
          "output_type": "execute_result",
          "data": {
            "text/plain": [
              "[(1, 95.79423868312756, 0.3942149740046402),\n",
              " (9, 96.83539094650206, 0.3984995512201731),\n",
              " (4, 96.87242798353908, 0.3986519670104489),\n",
              " (2, 96.91358024691357, 0.3988213178885332),\n",
              " (3, 97.201646090535, 0.4000067740351234),\n",
              " (10, 97.39094650205762, 0.4007857880743112),\n",
              " (8, 98.05349794238683, 0.4035123372114684),\n",
              " (7, 98.06995884773664, 0.40358007756270226),\n",
              " (5, 98.58847736625515, 0.4057138986265644),\n",
              " (6, 98.6954732510288, 0.40615421090958354),\n",
              " (12, 99.44855967078189, 0.4092533319785263),\n",
              " (11, 99.81069958847736, 0.41074361970566814)]"
            ]
          },
          "metadata": {},
          "execution_count": 26
        }
      ]
    },
    {
      "cell_type": "code",
      "execution_count": null,
      "metadata": {
        "colab": {
          "base_uri": "https://localhost:8080/"
        },
        "id": "nEaeZcLUsbZf",
        "outputId": "df3e0f6c-6d45-456d-cabf-61d96dd1f32a"
      },
      "outputs": [
        {
          "output_type": "execute_result",
          "data": {
            "text/plain": [
              "[(1, 95.79423868312756),\n",
              " (9, 96.83539094650206),\n",
              " (4, 96.87242798353908),\n",
              " (2, 96.91358024691357),\n",
              " (3, 97.201646090535),\n",
              " (10, 97.39094650205762),\n",
              " (8, 98.05349794238683),\n",
              " (7, 98.06995884773664),\n",
              " (5, 98.58847736625515),\n",
              " (6, 98.6954732510288),\n",
              " (12, 99.44855967078189),\n",
              " (11, 99.81069958847736)]"
            ]
          },
          "metadata": {},
          "execution_count": 27
        }
      ],
      "source": [
        "sorted(layers_average_rank_ds3, key=lambda x:x[1])"
      ]
    },
    {
      "cell_type": "markdown",
      "source": [
        "The above is the results for dataset 3.\n",
        "To verify our results we reprduce the procedre on dataset 2."
      ],
      "metadata": {
        "id": "0vhqcxVoINuY"
      }
    },
    {
      "cell_type": "code",
      "source": [
        "layers_average_rank_ds2 = []\n",
        "for i in range(1,13):\n",
        "  layer_accuracy_average_ds2 , layer_accuracy_for_all_concepts_ds2  = train(Fmridata2, np.array(bert_layers_embedding_ds2[i]), 8)\n",
        "  layers_average_rank_ds2  += [(i, sum(layer_accuracy_average_ds2 )/ len(layer_accuracy_average_ds2 ))]"
      ],
      "metadata": {
        "id": "KhwLSjtfPvFk"
      },
      "execution_count": null,
      "outputs": []
    },
    {
      "cell_type": "code",
      "source": [
        "layers_ranks_ds2  = [x[1] for x in layers_average_rank_ds2 ]\n",
        "plot_data(layers_ranks_ds2 , len(concepts2), plot_mean=False)"
      ],
      "metadata": {
        "id": "owSKZGsSQEfE",
        "colab": {
          "base_uri": "https://localhost:8080/",
          "height": 467
        },
        "outputId": "8c3bff78-a9ac-463e-ee0e-2886257a6b7e"
      },
      "execution_count": null,
      "outputs": [
        {
          "output_type": "display_data",
          "data": {
            "text/plain": [
              "<Figure size 640x480 with 1 Axes>"
            ],
            "image/png": "[encoded data removed]"
          },
          "metadata": {}
        },
        {
          "output_type": "stream",
          "name": "stdout",
          "text": [
            "The average rank is:  115.90646701388887\n",
            "The normallized of average rank:  0.30183975784866895\n"
          ]
        }
      ]
    },
    {
      "cell_type": "code",
      "source": [
        "noramllized_layers_ds2 = [(i, layers_ranks_ds2[i-1], layers_ranks_ds2[i-1]/len(concepts2)) for i in range(1,13)]\n",
        "sorted(noramllized_layers_ds2, key=lambda x:x[1])"
      ],
      "metadata": {
        "id": "1O1jrvi5IFZp",
        "colab": {
          "base_uri": "https://localhost:8080/"
        },
        "outputId": "33942252-5943-4d75-bc79-aeb6296cfc94"
      },
      "execution_count": null,
      "outputs": [
        {
          "output_type": "execute_result",
          "data": {
            "text/plain": [
              "[(10, 107.34375000000001, 0.27954101562500006),\n",
              " (9, 109.75, 0.2858072916666667),\n",
              " (8, 110.35937500000001, 0.2873942057291667),\n",
              " (7, 111.31510416666666, 0.2898830837673611),\n",
              " (12, 113.3828125, 0.2952677408854167),\n",
              " (11, 113.98177083333333, 0.2968275282118055),\n",
              " (6, 115.88541666666666, 0.3017849392361111),\n",
              " (5, 116.54166666666667, 0.3034939236111111),\n",
              " (4, 121.19270833333333, 0.3156060112847222),\n",
              " (2, 122.79687500000001, 0.31978352864583337),\n",
              " (1, 123.35937499999999, 0.3212483723958333),\n",
              " (3, 124.96875, 0.325439453125)]"
            ]
          },
          "metadata": {},
          "execution_count": 21
        }
      ]
    },
    {
      "cell_type": "code",
      "source": [
        "sorted(layers_average_rank_ds2 , key=lambda x:x[1])"
      ],
      "metadata": {
        "colab": {
          "base_uri": "https://localhost:8080/"
        },
        "id": "XiaL7wKwQE8W",
        "outputId": "4f742ddb-998d-4581-90f3-97219ed68ea2"
      },
      "execution_count": null,
      "outputs": [
        {
          "output_type": "execute_result",
          "data": {
            "text/plain": [
              "[(10, 107.34375000000001),\n",
              " (9, 109.75),\n",
              " (8, 110.35937500000001),\n",
              " (7, 111.31510416666666),\n",
              " (12, 113.3828125),\n",
              " (11, 113.98177083333333),\n",
              " (6, 115.88541666666666),\n",
              " (5, 116.54166666666667),\n",
              " (4, 121.19270833333333),\n",
              " (2, 122.79687500000001),\n",
              " (1, 123.35937499999999),\n",
              " (3, 124.96875)]"
            ]
          },
          "metadata": {},
          "execution_count": 20
        }
      ]
    },
    {
      "cell_type": "markdown",
      "source": [],
      "metadata": {
        "id": "CkCutBgZTchY"
      }
    },
    {
      "cell_type": "code",
      "execution_count": null,
      "metadata": {
        "colab": {
          "base_uri": "https://localhost:8080/",
          "height": 447
        },
        "id": "bZSmNuZNu9N4",
        "outputId": "9c4548d4-aa53-4db5-c0b4-bf7977a84cd1"
      },
      "outputs": [
        {
          "data": {
            "image/png": "[encoded data removed]",
            "text/plain": [
              "<Figure size 640x480 with 1 Axes>"
            ]
          },
          "metadata": {},
          "output_type": "display_data"
        },
        {
          "data": {
            "text/plain": [
              "100.25102880658434"
            ]
          },
          "execution_count": 32,
          "metadata": {},
          "output_type": "execute_result"
        }
      ],
      "source": [
        "first_and_last_two_layers = np.mean([layers_embed_dict[12], layers_embed_dict[11], layers_embed_dict[1]], axis=0)\n",
        "first_and_last_two_layers_accuracy_average, first_and_last_two_layers_accuracy_for_all_concepts = train(Fmridata3, np.array(first_and_last_two_layers), 9)\n",
        "plot_data(layer_accuracy_average)\n",
        "sum(first_and_last_two_layers_accuracy_average) / len(first_and_last_two_layers_accuracy_average)"
      ]
    },
    {
      "cell_type": "markdown",
      "metadata": {
        "id": "7g8PC37A5XtH"
      },
      "source": [
        "### GPT embedding"
      ]
    },
    {
      "cell_type": "code",
      "execution_count": null,
      "metadata": {
        "id": "hJ_5WlXHCPj3"
      },
      "outputs": [],
      "source": [
        "!pip install transformers"
      ]
    },
    {
      "cell_type": "code",
      "execution_count": null,
      "metadata": {
        "id": "Tl8DOXyoPzK8"
      },
      "outputs": [],
      "source": [
        "from tensorflow.tools.docs.doc_controls import for_subclass_implementers\n",
        "from transformers import GPT2Tokenizer, GPT2Model\n",
        "import torch\n",
        "tokenizer = GPT2Tokenizer.from_pretrained('gpt2')\n",
        "model = GPT2Model.from_pretrained('gpt2')"
      ]
    },
    {
      "cell_type": "code",
      "execution_count": null,
      "metadata": {
        "id": "qJn7GkbuJeR4"
      },
      "outputs": [],
      "source": [
        "def GPT_embedding(sentences):\n",
        "  embed_sentences = []\n",
        "  layers_embeddings = [[]] * 13\n",
        "  for sent in sentences:\n",
        "    inputs = tokenizer.encode(sent, return_tensors='pt')\n",
        "    with torch.no_grad():\n",
        "      outputs = model(inputs, output_hidden_states=True)  # Set output_hidden_states=True to get hidden states\n",
        "      hidden_states = outputs.hidden_states\n",
        "    new_hidden_states = torch.Tensor(13, hidden_states[0].shape[1], 768)\n",
        "    for i in range(13):\n",
        "      new_hidden_states[i] = torch.squeeze(outputs.hidden_states[i])\n",
        "    sentence_embedding = torch.mean(new_hidden_states, dim = 1)\n",
        "    embed_sentences.append(sentence_embedding[-1].numpy())\n",
        "    print\n",
        "    for j in range(13):\n",
        "      layers_embeddings[j].append(new_hidden_states[j].numpy())\n",
        "  return layers_embeddings, embed_sentences\n"
      ]
    },
    {
      "cell_type": "code",
      "execution_count": null,
      "metadata": {
        "colab": {
          "base_uri": "https://localhost:8080/",
          "height": 465
        },
        "id": "qh3ZnuFEeHRf",
        "outputId": "acc99fe9-5066-47f6-9261-d320bf50f0dd"
      },
      "outputs": [
        {
          "data": {
            "image/png": "[encoded data removed]",
            "text/plain": [
              "<Figure size 640x480 with 1 Axes>"
            ]
          },
          "metadata": {},
          "output_type": "display_data"
        },
        {
          "name": "stdout",
          "output_type": "stream",
          "text": [
            "The average rank is:  103.43621399176955\n",
            "The average percent of average rank:  0.4274223718668163\n"
          ]
        }
      ],
      "source": [
        "GPT_embedding_layers_ds3, GPT_sentences_embedding_ds3 =GPT_embedding(get_list_of_concepts(concepts3))\n",
        "GPT_accuracy_average_ds3, GPT_accuracy_for_all_concepts_ds3 = train(Fmridata3, np.array(GPT_sentences_embedding_ds3), 9)\n",
        "plot_data(GPT_accuracy_average_ds3, len(concepts3))"
      ]
    },
    {
      "cell_type": "code",
      "execution_count": null,
      "metadata": {
        "colab": {
          "base_uri": "https://localhost:8080/",
          "height": 465
        },
        "id": "bBg2wO_Pe84V",
        "outputId": "9f8520a4-cd61-4ab6-a842-82a97386d8e5"
      },
      "outputs": [
        {
          "data": {
            "image/png": "[encoded data removed]",
            "text/plain": [
              "<Figure size 640x480 with 1 Axes>"
            ]
          },
          "metadata": {},
          "output_type": "display_data"
        },
        {
          "name": "stdout",
          "output_type": "stream",
          "text": [
            "The average rank is:  157.97395833333334\n",
            "The normallized of average rank:  0.4113905164930556\n"
          ]
        }
      ],
      "source": [
        "GPT_embedding_layers_ds2, GPT_sentences_embedding_ds2 =GPT_embedding(get_list_of_concepts(concepts2))\n",
        "GPT_accuracy_average_ds2, GPT_accuracy_for_all_concepts_ds2 = train(Fmridata2, np.array(GPT_sentences_embedding_ds2), 8)\n",
        "plot_data(GPT_accuracy_average_ds2, len(concepts2))"
      ]
    },
    {
      "cell_type": "markdown",
      "source": [
        "# USE & BERT encoders"
      ],
      "metadata": {
        "id": "7C8u-YQ-MWgP"
      }
    },
    {
      "cell_type": "code",
      "source": [
        "!pip install tensorflow_text\n",
        "import tensorflow_hub as hub\n",
        "import tensorflow_text\n",
        "use_embed = hub.load(\"https://tfhub.dev/google/universal-sentence-encoder-multilingual-large/3\")"
      ],
      "metadata": {
        "id": "j-lxCmgXMVvZ"
      },
      "execution_count": null,
      "outputs": []
    },
    {
      "cell_type": "code",
      "source": [
        "!pip install -U sentence-transformers\n",
        "from sentence_transformers import SentenceTransformer\n",
        "\n",
        "# Load the pre-trained model\n",
        "model = SentenceTransformer('bert-base-nli-mean-tokens')\n",
        "bert_embed = model.encode"
      ],
      "metadata": {
        "id": "wyV2FifqMhYD"
      },
      "execution_count": null,
      "outputs": []
    },
    {
      "cell_type": "code",
      "source": [
        "def embed_sentences(embed_func, sentences):\n",
        "    embedded = list(embed_func(sentences))\n",
        "    return list(np.array(list(map(lambda vec: list(vec), embedded))))"
      ],
      "metadata": {
        "id": "coUN6aPHMmeQ"
      },
      "execution_count": null,
      "outputs": []
    },
    {
      "cell_type": "code",
      "source": [
        "use_vec_data = embed_sentences(use_embed, sen_data)\n",
        "bert_vec_data = embed_sentences(bert_embed, sen_data)"
      ],
      "metadata": {
        "id": "caZKdJmvMogD"
      },
      "execution_count": null,
      "outputs": []
    },
    {
      "cell_type": "code",
      "source": [
        "import statsmodels.api as sm\n",
        "import random\n",
        "# voxels = np.transpose(np.array(list(Fmridata2) + list(Fmridata3)))\n",
        "\n",
        "def train_voxels(input_data, voxels):\n",
        "  train_input_data = sm.add_constant(list(input_data))\n",
        "\n",
        "  rs = []\n",
        "  for i, y in enumerate(voxels[:100]):\n",
        "    # print(i)\n",
        "    model = sm.OLS(y, train_input_data).fit()\n",
        "    # mses.append(mean_squared_error(model.predict(vec_data_train), y))\n",
        "    rs.append((i, model))\n",
        "  return rs"
      ],
      "metadata": {
        "id": "rFB9P-fLMq0C"
      },
      "execution_count": null,
      "outputs": []
    },
    {
      "cell_type": "code",
      "source": [
        "!pip install transformers\n",
        "import math\n",
        "import torch\n",
        "from transformers import GPT2LMHeadModel, GPT2TokenizerFast\n",
        "\n",
        "tokenizer = GPT2TokenizerFast.from_pretrained('distilgpt2')\n",
        "model = GPT2LMHeadModel.from_pretrained('distilgpt2')\n",
        "model.eval()\n",
        "\n",
        "def perplexity_score(sentence):\n",
        "    tokenize_input = tokenizer.tokenize(sentence)\n",
        "    tensor_input = torch.tensor([tokenizer.convert_tokens_to_ids(tokenize_input)])\n",
        "    loss = model(tensor_input, labels=tensor_input)[\"loss\"].item()\n",
        "    return math.exp(loss)\n"
      ],
      "metadata": {
        "id": "5ZTHsGR5Mya2"
      },
      "execution_count": null,
      "outputs": []
    },
    {
      "cell_type": "code",
      "source": [
        "pl = list(map(lambda s: (s, perplexity_score(s)), sen_data))"
      ],
      "metadata": {
        "id": "wRlC9KwkM2Of"
      },
      "execution_count": null,
      "outputs": []
    },
    {
      "cell_type": "code",
      "source": [
        "surps_sens = sorted(pl, key=lambda s: s[1], reverse=True)[:50]\n",
        "surps_sens = list(map(lambda s: s[0], surps_sens))\n",
        "non_surps_sens = list(set(sen_data) - set(surps_sens))\n",
        "dict_data = {sen: (vox, vec, i) for i, (sen, vec, vox) in enumerate(zip(sen_data, vec_data, Fmridata2))}\n",
        "non_surps_fmri = [dict_data[ns][0] for ns in non_surps_sens]\n",
        "non_surps_voxels = np.transpose(non_surps_fmri)"
      ],
      "metadata": {
        "id": "AVtJRnByM3-y"
      },
      "execution_count": null,
      "outputs": []
    },
    {
      "cell_type": "code",
      "source": [
        "def get_embed_surps(embed_func):\n",
        "  return embed_func(surps_sens), embed_func(non_surps_sens)"
      ],
      "metadata": {
        "id": "KeyohO62M6l5"
      },
      "execution_count": null,
      "outputs": []
    },
    {
      "cell_type": "code",
      "source": [
        "use_surps_vec, use_non_surps_vec = get_embed_surps(use_embed)\n",
        "bert_surps_vec, bert_non_surps_vec = get_embed_surps(bert_embed)"
      ],
      "metadata": {
        "id": "jCFyOjeRM8b0"
      },
      "execution_count": null,
      "outputs": []
    },
    {
      "cell_type": "code",
      "source": [
        "use_non_surps = train_voxels(use_non_surps_vec, non_surps_voxels)\n",
        "use_non_surps_models = list(map(lambda m: m[1], use_non_surps))\n",
        "\n",
        "bert_non_surps = train_voxels(bert_non_surps_vec, non_surps_voxels)\n",
        "bert_non_surps_models = list(map(lambda m: m[1], bert_non_surps))"
      ],
      "metadata": {
        "id": "jBRz2VZpM-Q_"
      },
      "execution_count": null,
      "outputs": []
    },
    {
      "cell_type": "code",
      "source": [
        "glove_non_surps_vec = [dict_data[ns][1] for ns in non_surps_sens]\n",
        "glove_non_surps = train_voxels(glove_non_surps_vec, non_surps_voxels)\n",
        "glove_non_surps_models = list(map(lambda m: m[1], glove_non_surps))\n",
        "glove_surps_vec = [dict_data[ns][1] for ns in surps_sens]"
      ],
      "metadata": {
        "id": "kDW1BPWcM_yZ"
      },
      "execution_count": null,
      "outputs": []
    },
    {
      "cell_type": "code",
      "source": [
        "# surps_voxel2 = np.transpose(np.array([dict_data[s][0] for s in surps_sens]))[0]\n",
        "from sklearn.metrics import mean_squared_error\n",
        "\n",
        "# surps_voxels = np.transpose(np.array([dict_data[s][0] for s in surps_sens]))\n",
        "# voxels = np.transpose(Fmridata2)\n",
        "\n",
        "def get_mses_preds(models, vecs, voxels_test):\n",
        "  vecs_train = sm.add_constant(vecs)\n",
        "  mses = []\n",
        "  for model, curr_voxel in zip(models, voxels_test):\n",
        "    preds = model.predict(sm.add_constant(vecs_train))\n",
        "    mses.append(mean_squared_error(curr_voxel, preds))\n",
        "  return mses\n"
      ],
      "metadata": {
        "id": "OyBHLstMNCAA"
      },
      "execution_count": null,
      "outputs": []
    },
    {
      "cell_type": "code",
      "source": [
        "use_surps_mses = get_mses_preds(use_non_surps_models, use_surps_vec, surps_voxels)\n",
        "bert_surps_mses = get_mses_preds(bert_non_surps_models, bert_surps_vec, surps_voxels)\n",
        "glove_surps_mses = get_mses_preds(glove_non_surps_models, glove_surps_vec, surps_voxels)"
      ],
      "metadata": {
        "id": "f1nJAf_FNE6X"
      },
      "execution_count": null,
      "outputs": []
    },
    {
      "cell_type": "code",
      "source": [
        "avg_use_surps_mses = sum(list(use_surps_mses)) / len(use_surps_mses)\n",
        "avg_bert_surps_mses = sum(list(bert_surps_mses)) / len(bert_surps_mses)\n",
        "avg_glove_surps_mses = sum(list(glove_surps_mses)) / len(glove_surps_mses)"
      ],
      "metadata": {
        "id": "3IeGrnPNNGjK"
      },
      "execution_count": null,
      "outputs": []
    },
    {
      "cell_type": "code",
      "source": [
        "import matplotlib.pyplot as plt\n",
        "import numpy as np\n",
        "\n",
        "def plot_mses(mses, c):\n",
        "  x = np.array(list(range(len((mses)))))\n",
        "  y = np.array(mses)\n",
        "\n",
        "  plt.scatter(x, y, color=c)\n",
        "\n",
        "plot_mses(use_surps_mses, 'red')\n",
        "plot_mses(bert_surps_mses, 'blue')\n",
        "plot_mses(glove_surps_mses, 'green')\n",
        "plt.show()"
      ],
      "metadata": {
        "id": "eaZBF7u-NJrK"
      },
      "execution_count": null,
      "outputs": []
    },
    {
      "cell_type": "code",
      "source": [
        "from sklearn.model_selection import train_test_split\n",
        "from sklearn.metrics import mean_squared_error\n",
        "import random, time\n",
        "\n",
        "use_mses = []\n",
        "bert_mses = []\n",
        "glove_mses = []\n",
        "\n",
        "def split_predict(vecs, curr_voxels):\n",
        "  X_train, X_test, y_train, y_test = train_test_split(vecs, curr_voxels, test_size=0.1)\n",
        "  model = train_voxels(X_train, [y_train])[0][1]\n",
        "  return get_mses_preds([model], X_test, [y_test])\n",
        "\n",
        "for i in range(1000):\n",
        "  use_mses.append(*split_predict(use_vec_data, voxels[i]))\n",
        "  bert_mses.append(*split_predict(bert_vec_data, voxels[i]))\n",
        "  glove_mses.append(*split_predict(vec_data, voxels[i]))\n"
      ],
      "metadata": {
        "id": "CloHNFaLNNsS"
      },
      "execution_count": null,
      "outputs": []
    },
    {
      "cell_type": "code",
      "source": [
        "import matplotlib.pyplot as plt\n",
        "import numpy as np\n",
        "\n",
        "def plot_mses(mses, c):\n",
        "  x = np.array(list(range(len((mses)))))\n",
        "  y = np.array(mses)\n",
        "\n",
        "  plt.scatter(x, y, color=c)\n",
        "\n",
        "plot_mses(use_mses, 'red')\n",
        "plot_mses(bert_mses, 'blue')\n",
        "\n",
        "plt.show()\n",
        "plot_mses(glove_mses, 'green')\n",
        "plt.show()"
      ],
      "metadata": {
        "id": "3T2LAHHzNP9j"
      },
      "execution_count": null,
      "outputs": []
    },
    {
      "cell_type": "code",
      "source": [
        "avg_use_mses = sum(list(use_mses)) / len(use_mses)\n",
        "avg_bert_mses = sum(list(bert_mses)) / len(bert_mses)\n",
        "avg_glove_mses = sum(list(glove_mses)) / len(glove_mses)"
      ],
      "metadata": {
        "id": "ZJBfV2X8NVHr"
      },
      "execution_count": null,
      "outputs": []
    },
    {
      "cell_type": "code",
      "source": [
        "avg_use_surps_mses / avg_use_mses, avg_bert_surps_mses / avg_bert_mses, avg_glove_surps_mses / avg_glove_mses,"
      ],
      "metadata": {
        "id": "NuwwTCpiNW68"
      },
      "execution_count": null,
      "outputs": []
    }
  ],
  "metadata": {
    "accelerator": "GPU",
    "colab": {
      "provenance": []
    },
    "kernelspec": {
      "display_name": "Python 3",
      "name": "python3"
    },
    "language_info": {
      "name": "python"
    }
  },
  "nbformat": 4,
  "nbformat_minor": 0
}